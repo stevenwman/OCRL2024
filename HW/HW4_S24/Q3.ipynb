{
 "cells": [
  {
   "cell_type": "markdown",
   "id": "a23aae7b",
   "metadata": {},
   "source": [
    "## Q3 (5 pts)\n",
    "\n",
    "Please fill out the following project form (one per group). This will primarily be for the TAs to use to understand what you are working on and hopefully be able to better assist you. If you haven't decided on certain aspects of the project, just include what you are currently thinking/what decisions you need to make."
   ]
  },
  {
   "cell_type": "markdown",
   "id": "7674d43c",
   "metadata": {},
   "source": [
    "\n",
    "**(1) Write down your dynamics (handwritten, code, or latex). This can be continuous-time (include how you are discretizing your system) or discrete-time.**"
   ]
  },
  {
   "cell_type": "markdown",
   "id": "c2a65763",
   "metadata": {},
   "source": [
    "We're using MATLAB to automate the derivation process using the symbolic toolbox. \n",
    "\n",
    "We have a symbolic matrix that represents the contrained lagrangian of the system when either foot is on the ground. It's 11x11 so I can't really paste it in here."
   ]
  },
  {
   "cell_type": "markdown",
   "id": "a354260d",
   "metadata": {},
   "source": [
    "**(2) What is your state (what does each variable represent)?**"
   ]
  },
  {
   "cell_type": "markdown",
   "id": "44a79fa4",
   "metadata": {},
   "source": [
    "State = [ x  y  t1  t2  t3  t4  t5  dx  dy  dt1  dt2  dt3  dt4  dt5]\n",
    "\n",
    "They represent the x and y position of the mass, and joint angles of the different legs (and their time derivatives). "
   ]
  },
  {
   "cell_type": "markdown",
   "id": "b5182ec6",
   "metadata": {},
   "source": [
    "**(3) What is your control (what does each variable represent)?**"
   ]
  },
  {
   "cell_type": "markdown",
   "id": "679724a4",
   "metadata": {},
   "source": [
    "u = [tau1  tau2  tau3  tau4  tau5]\n",
    "\n",
    "They represent joint torques at each joints"
   ]
  },
  {
   "cell_type": "markdown",
   "id": "1ab1ee48",
   "metadata": {},
   "source": [
    "**(4) Briefly describe your goal for the project. What are you trying to make the system do? Specify whether you are doing control, trajectory optimization, both, or something else.**"
   ]
  },
  {
   "cell_type": "markdown",
   "id": "792fedf6",
   "metadata": {},
   "source": [
    "The goal of the project is to develop a trajectory optimization strategy that enables a 5-link walker to ascend stairs. This involves creating a stable walking gait on flat ground and then adapting this gait to climb stairs."
   ]
  },
  {
   "cell_type": "markdown",
   "id": "3b646102",
   "metadata": {},
   "source": [
    "**(5) What are your costs?**"
   ]
  },
  {
   "cell_type": "markdown",
   "id": "de84db11",
   "metadata": {},
   "source": [
    "Energy (minimizing torque applied)\n",
    "Tracking error from reference trajectory"
   ]
  },
  {
   "cell_type": "markdown",
   "id": "368c8b17",
   "metadata": {},
   "source": [
    "**(6) What are your constraints?**"
   ]
  },
  {
   "cell_type": "markdown",
   "id": "4da33bfd",
   "metadata": {},
   "source": [
    "Assuming one foot in contact with ground\n",
    "Knee strike"
   ]
  },
  {
   "cell_type": "markdown",
   "id": "a0b8ffd2",
   "metadata": {},
   "source": [
    "**(7) What solution methods are you going to try?**\n"
   ]
  },
  {
   "cell_type": "markdown",
   "id": "3188e8af",
   "metadata": {},
   "source": [
    "We will try to use hybrid direct collocation and NLP."
   ]
  },
  {
   "cell_type": "markdown",
   "id": "7f8d9a7d",
   "metadata": {},
   "source": [
    "**(8) What have you tried so far?**"
   ]
  },
  {
   "cell_type": "markdown",
   "id": "e8bbf4ae",
   "metadata": {},
   "source": [
    "Implementing and simulating 3 links kneed passive walker down a slope in Julia with switching legs after the heel strike. \n",
    "\n",
    "Modeling 5 link bipedal walker with a torso and two identical legs with knees. \n"
   ]
  },
  {
   "cell_type": "markdown",
   "id": "e6eca77f",
   "metadata": {},
   "source": [
    "**(9) If applicable, what are you currently running into issues with?**"
   ]
  },
  {
   "cell_type": "markdown",
   "id": "e7cfc4f1",
   "metadata": {},
   "source": [
    "Trying to make sure we have to correct dynamics and generating a reference trajectory"
   ]
  },
  {
   "cell_type": "markdown",
   "id": "aed4e1da",
   "metadata": {},
   "source": [
    "**(10) If your system doesn't fit with some of the questions above or there are additional things you'd like to elaborate on, please explain/do that here.**"
   ]
  },
  {
   "cell_type": "markdown",
   "id": "74f51a99",
   "metadata": {},
   "source": [
    "Will Dircol only adhere to the reference trajectory or will it also optimize that to reduce cost? One question we have is hwo to reduce the amount of acutation efforts and take advantage of passive dynamics of the walker. Maybe the reference trajectory is not the most energy efficient and I wonder what set of costs and constraints will lead to the \"most efficient control policy\"?"
   ]
  }
 ],
 "metadata": {
  "kernelspec": {
   "display_name": "Julia 1.6.7",
   "language": "julia",
   "name": "julia-1.6"
  },
  "language_info": {
   "file_extension": ".jl",
   "mimetype": "application/julia",
   "name": "julia",
   "version": "1.6.7"
  }
 },
 "nbformat": 4,
 "nbformat_minor": 5
}
